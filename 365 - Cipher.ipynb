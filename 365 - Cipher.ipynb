{
 "cells": [
  {
   "cell_type": "code",
   "execution_count": 1,
   "metadata": {},
   "outputs": [],
   "source": [
    "alpha = 'abcdefghijklmnopqrstuvwxyz'"
   ]
  },
  {
   "cell_type": "code",
   "execution_count": 8,
   "metadata": {},
   "outputs": [],
   "source": [
    "input_text = 'hello'"
   ]
  },
  {
   "cell_type": "code",
   "execution_count": 9,
   "metadata": {},
   "outputs": [
    {
     "name": "stdout",
     "output_type": "stream",
     "text": [
      "khoor\n"
     ]
    }
   ],
   "source": [
    "output = ''\n",
    "for char in input_text:\n",
    "    alpha_index = alpha.find(char)\n",
    "    output = output + alpha[alpha_index + 3]\n",
    "print(output)"
   ]
  },
  {
   "cell_type": "code",
   "execution_count": 10,
   "metadata": {},
   "outputs": [],
   "source": [
    "def shift_amount(i):\n",
    "    return i%26\n"
   ]
  },
  {
   "cell_type": "code",
   "execution_count": 11,
   "metadata": {},
   "outputs": [
    {
     "name": "stdout",
     "output_type": "stream",
     "text": [
      "lipps\n"
     ]
    }
   ],
   "source": [
    "output1 = ''\n",
    "for char in input_text:\n",
    "    alpha_index = alpha.find(char)\n",
    "    output1 = output1 + alpha[shift_amount(alpha_index + 30)]\n",
    "print(output1)"
   ]
  },
  {
   "cell_type": "code",
   "execution_count": 12,
   "metadata": {},
   "outputs": [],
   "source": [
    "def encrypt(text,shift):\n",
    "    out_string = ''\n",
    "    text = text.lower()\n",
    "    for char in text:\n",
    "        if char not in alpha:\n",
    "            out_string = out_string + char\n",
    "        else:\n",
    "            alpha_index = alpha.find(char)\n",
    "            out_string = out_string + alpha[shift_amount(alpha_index + shift)]\n",
    "    return out_string    "
   ]
  },
  {
   "cell_type": "code",
   "execution_count": 18,
   "metadata": {},
   "outputs": [
    {
     "data": {
      "text/plain": [
       "'wvkm cxwv'"
      ]
     },
     "execution_count": 18,
     "metadata": {},
     "output_type": "execute_result"
    }
   ],
   "source": [
    "encrypt('once upon',458793126458796451748531264518)"
   ]
  },
  {
   "cell_type": "code",
   "execution_count": 19,
   "metadata": {},
   "outputs": [],
   "source": [
    "basker = ''''Finance Minister Nirmala Sitharaman met Prime Minister Narendra Modi as\n",
    "the central government prepares an economic stimulus package \n",
    "thatbusinesses have been pitching for to stay afloat.\n",
    "\n",
    "Officials privy to the details said the government hopes to unveil \n",
    "some economic relief measures soon, but revealed there would be no “big bang”\n",
    "policy announcement, and relief would instead be in tranches.'''\n"
   ]
  },
  {
   "cell_type": "code",
   "execution_count": 21,
   "metadata": {},
   "outputs": [],
   "source": [
    "a = encrypt(basker,3)"
   ]
  },
  {
   "cell_type": "code",
   "execution_count": 22,
   "metadata": {},
   "outputs": [
    {
     "data": {
      "text/plain": [
       "\"'ilqdqfh plqlvwhu qlupdod vlwkdudpdq phw sulph plqlvwhu qduhqgud prgl dv\\nwkh fhqwudo jryhuqphqw suhsduhv dq hfrqrplf vwlpxoxv sdfndjh \\nwkdwexvlqhvvhv kdyh ehhq slwfklqj iru wr vwdb diordw.\\n\\nriilfldov sulyb wr wkh ghwdlov vdlg wkh jryhuqphqw krshv wr xqyhlo \\nvrph hfrqrplf uholhi phdvxuhv vrrq, exw uhyhdohg wkhuh zrxog eh qr “elj edqj”\\nsrolfb dqqrxqfhphqw, dqg uholhi zrxog lqvwhdg eh lq wudqfkhv.\""
      ]
     },
     "execution_count": 22,
     "metadata": {},
     "output_type": "execute_result"
    }
   ],
   "source": [
    "a"
   ]
  },
  {
   "cell_type": "code",
   "execution_count": 24,
   "metadata": {},
   "outputs": [
    {
     "name": "stdout",
     "output_type": "stream",
     "text": [
      "'finance minister nirmala sitharaman met prime minister narendra modi as\n",
      "the central government prepares an economic stimulus package \n",
      "thatbusinesses have been pitching for to stay afloat.\n",
      "\n",
      "officials privy to the details said the government hopes to unveil \n",
      "some economic relief measures soon, but revealed there would be no “big bang”\n",
      "policy announcement, and relief would instead be in tranches.\n"
     ]
    }
   ],
   "source": [
    "print(encrypt(a,-3))"
   ]
  },
  {
   "cell_type": "code",
   "execution_count": null,
   "metadata": {},
   "outputs": [],
   "source": []
  }
 ],
 "metadata": {
  "kernelspec": {
   "display_name": "Python 3",
   "language": "python",
   "name": "python3"
  },
  "language_info": {
   "codemirror_mode": {
    "name": "ipython",
    "version": 3
   },
   "file_extension": ".py",
   "mimetype": "text/x-python",
   "name": "python",
   "nbconvert_exporter": "python",
   "pygments_lexer": "ipython3",
   "version": "3.7.4"
  }
 },
 "nbformat": 4,
 "nbformat_minor": 2
}
