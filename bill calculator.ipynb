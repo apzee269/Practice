{
 "cells": [
  {
   "cell_type": "code",
   "execution_count": 6,
   "metadata": {},
   "outputs": [],
   "source": [
    "def dial(n):\n",
    "    dialysis = n*3500\n",
    "    \n",
    "    med = 0\n",
    "    bill = int(input(\"Enter the bill amount\"))\n",
    "    while bill>0:\n",
    "        med = med+bill\n",
    "        bill = int(input(\"Enter the bill amount\"))\n",
    "        \n",
    "    amount = dialysis + med\n",
    "    print(amount)\n"
   ]
  },
  {
   "cell_type": "code",
   "execution_count": 7,
   "metadata": {},
   "outputs": [
    {
     "name": "stdout",
     "output_type": "stream",
     "text": [
      "Enter the bill amount400\n",
      "Enter the bill amount205\n",
      "Enter the bill amount250\n",
      "Enter the bill amount3245\n",
      "Enter the bill amount3310\n",
      "Enter the bill amount101\n",
      "Enter the bill amount4309\n",
      "Enter the bill amount3171\n",
      "Enter the bill amount2042\n",
      "Enter the bill amount81\n",
      "Enter the bill amount150\n",
      "Enter the bill amount4296\n",
      "Enter the bill amount1650\n",
      "Enter the bill amount3790\n",
      "Enter the bill amount959\n",
      "Enter the bill amount3092\n",
      "Enter the bill amount650\n",
      "Enter the bill amount3200\n",
      "Enter the bill amount0\n",
      "83901\n"
     ]
    }
   ],
   "source": [
    "dial(14)"
   ]
  },
  {
   "cell_type": "markdown",
   "metadata": {},
   "source": [
    "400+205+250+3245+3310+101+4309+3171+2042+81+150+4296+1650+3790+959+3092+650+3200"
   ]
  }
 ],
 "metadata": {
  "kernelspec": {
   "display_name": "Python 3",
   "language": "python",
   "name": "python3"
  },
  "language_info": {
   "codemirror_mode": {
    "name": "ipython",
    "version": 3
   },
   "file_extension": ".py",
   "mimetype": "text/x-python",
   "name": "python",
   "nbconvert_exporter": "python",
   "pygments_lexer": "ipython3",
   "version": "3.7.4"
  }
 },
 "nbformat": 4,
 "nbformat_minor": 2
}
