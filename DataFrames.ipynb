{
 "cells": [
  {
   "cell_type": "code",
   "execution_count": 4,
   "metadata": {},
   "outputs": [],
   "source": [
    "import numpy as np\n",
    "import pandas as pd\n",
    "\n",
    "from pandas import DataFrame, Series"
   ]
  },
  {
   "cell_type": "code",
   "execution_count": 12,
   "metadata": {},
   "outputs": [
    {
     "data": {
      "text/plain": [
       "True"
      ]
     },
     "execution_count": 12,
     "metadata": {},
     "output_type": "execute_result"
    }
   ],
   "source": [
    "import webbrowser\n",
    "\n",
    "website = 'https://en.wikipedia.org/wiki/List_of_all-time_NFL_win%E2%80%93loss_records'\n",
    "webbrowser.open(website)"
   ]
  },
  {
   "cell_type": "code",
   "execution_count": 45,
   "metadata": {},
   "outputs": [],
   "source": [
    "nfl_frame = pd.read_clipboard()  #Copy from the excel and then use this function"
   ]
  },
  {
   "cell_type": "code",
   "execution_count": 46,
   "metadata": {},
   "outputs": [
    {
     "data": {
      "text/html": [
       "<div>\n",
       "<style scoped>\n",
       "    .dataframe tbody tr th:only-of-type {\n",
       "        vertical-align: middle;\n",
       "    }\n",
       "\n",
       "    .dataframe tbody tr th {\n",
       "        vertical-align: top;\n",
       "    }\n",
       "\n",
       "    .dataframe thead th {\n",
       "        text-align: right;\n",
       "    }\n",
       "</style>\n",
       "<table border=\"1\" class=\"dataframe\">\n",
       "  <thead>\n",
       "    <tr style=\"text-align: right;\">\n",
       "      <th></th>\n",
       "      <th>Rank</th>\n",
       "      <th>Team</th>\n",
       "      <th>GP</th>\n",
       "      <th>Won</th>\n",
       "      <th>Lost</th>\n",
       "      <th>Tied</th>\n",
       "      <th>Pct.</th>\n",
       "      <th>First NFL Season</th>\n",
       "      <th>Division</th>\n",
       "    </tr>\n",
       "  </thead>\n",
       "  <tbody>\n",
       "    <tr>\n",
       "      <td>0</td>\n",
       "      <td>1</td>\n",
       "      <td>Dallas Cowboys</td>\n",
       "      <td>914</td>\n",
       "      <td>520</td>\n",
       "      <td>388</td>\n",
       "      <td>6</td>\n",
       "      <td>0.572</td>\n",
       "      <td>1960</td>\n",
       "      <td>NFC East</td>\n",
       "    </tr>\n",
       "    <tr>\n",
       "      <td>1</td>\n",
       "      <td>2</td>\n",
       "      <td>Green Bay Packers</td>\n",
       "      <td>1,368</td>\n",
       "      <td>756</td>\n",
       "      <td>574</td>\n",
       "      <td>38</td>\n",
       "      <td>0.567</td>\n",
       "      <td>1921</td>\n",
       "      <td>NFC North</td>\n",
       "    </tr>\n",
       "    <tr>\n",
       "      <td>2</td>\n",
       "      <td>3</td>\n",
       "      <td>New England Patriots</td>\n",
       "      <td>916</td>\n",
       "      <td>512</td>\n",
       "      <td>395</td>\n",
       "      <td>9</td>\n",
       "      <td>0.564</td>\n",
       "      <td>1960</td>\n",
       "      <td>AFC East</td>\n",
       "    </tr>\n",
       "    <tr>\n",
       "      <td>3</td>\n",
       "      <td>4</td>\n",
       "      <td>Chicago Bears</td>\n",
       "      <td>1,402</td>\n",
       "      <td>769</td>\n",
       "      <td>591</td>\n",
       "      <td>42</td>\n",
       "      <td>0.563</td>\n",
       "      <td>1920</td>\n",
       "      <td>NFC North</td>\n",
       "    </tr>\n",
       "    <tr>\n",
       "      <td>4</td>\n",
       "      <td>5</td>\n",
       "      <td>Baltimore Ravens</td>\n",
       "      <td>384</td>\n",
       "      <td>214</td>\n",
       "      <td>169</td>\n",
       "      <td>1</td>\n",
       "      <td>0.559</td>\n",
       "      <td>1996</td>\n",
       "      <td>AFC North</td>\n",
       "    </tr>\n",
       "  </tbody>\n",
       "</table>\n",
       "</div>"
      ],
      "text/plain": [
       "   Rank                  Team     GP  Won  Lost  Tied   Pct.  \\\n",
       "0     1        Dallas Cowboys    914  520   388     6  0.572   \n",
       "1     2     Green Bay Packers  1,368  756   574    38  0.567   \n",
       "2     3  New England Patriots    916  512   395     9  0.564   \n",
       "3     4         Chicago Bears  1,402  769   591    42  0.563   \n",
       "4     5      Baltimore Ravens    384  214   169     1  0.559   \n",
       "\n",
       "   First NFL Season   Division  \n",
       "0              1960   NFC East  \n",
       "1              1921  NFC North  \n",
       "2              1960   AFC East  \n",
       "3              1920  NFC North  \n",
       "4              1996  AFC North  "
      ]
     },
     "execution_count": 46,
     "metadata": {},
     "output_type": "execute_result"
    }
   ],
   "source": [
    "nfl_frame"
   ]
  },
  {
   "cell_type": "code",
   "execution_count": 47,
   "metadata": {},
   "outputs": [
    {
     "data": {
      "text/plain": [
       "Index(['Rank', 'Team', 'GP', 'Won', 'Lost', 'Tied', 'Pct.', 'First NFL Season',\n",
       "       'Division'],\n",
       "      dtype='object')"
      ]
     },
     "execution_count": 47,
     "metadata": {},
     "output_type": "execute_result"
    }
   ],
   "source": [
    "nfl_frame.columns"
   ]
  },
  {
   "cell_type": "code",
   "execution_count": 48,
   "metadata": {},
   "outputs": [
    {
     "data": {
      "text/plain": [
       "0    1\n",
       "1    2\n",
       "2    3\n",
       "3    4\n",
       "4    5\n",
       "Name: Rank, dtype: int64"
      ]
     },
     "execution_count": 48,
     "metadata": {},
     "output_type": "execute_result"
    }
   ],
   "source": [
    "nfl_frame['Rank']"
   ]
  },
  {
   "cell_type": "code",
   "execution_count": 49,
   "metadata": {},
   "outputs": [
    {
     "data": {
      "text/plain": [
       "0          Dallas Cowboys\n",
       "1       Green Bay Packers\n",
       "2    New England Patriots\n",
       "3           Chicago Bears\n",
       "4        Baltimore Ravens\n",
       "Name: Team, dtype: object"
      ]
     },
     "execution_count": 49,
     "metadata": {},
     "output_type": "execute_result"
    }
   ],
   "source": [
    "nfl_frame.Team"
   ]
  },
  {
   "cell_type": "code",
   "execution_count": 1,
   "metadata": {},
   "outputs": [
    {
     "ename": "NameError",
     "evalue": "name 'nfl_frame' is not defined",
     "output_type": "error",
     "traceback": [
      "\u001b[1;31m---------------------------------------------------------------------------\u001b[0m",
      "\u001b[1;31mNameError\u001b[0m                                 Traceback (most recent call last)",
      "\u001b[1;32m<ipython-input-1-7c0642d78fb3>\u001b[0m in \u001b[0;36m<module>\u001b[1;34m\u001b[0m\n\u001b[1;32m----> 1\u001b[1;33m \u001b[0mnfl_frame\u001b[0m\u001b[1;33m[\u001b[0m\u001b[1;34m'First NFL Season'\u001b[0m\u001b[1;33m]\u001b[0m\u001b[1;33m\u001b[0m\u001b[1;33m\u001b[0m\u001b[0m\n\u001b[0m",
      "\u001b[1;31mNameError\u001b[0m: name 'nfl_frame' is not defined"
     ]
    }
   ],
   "source": [
    "nfl_frame['First NFL Season']"
   ]
  },
  {
   "cell_type": "code",
   "execution_count": 51,
   "metadata": {},
   "outputs": [
    {
     "data": {
      "text/html": [
       "<div>\n",
       "<style scoped>\n",
       "    .dataframe tbody tr th:only-of-type {\n",
       "        vertical-align: middle;\n",
       "    }\n",
       "\n",
       "    .dataframe tbody tr th {\n",
       "        vertical-align: top;\n",
       "    }\n",
       "\n",
       "    .dataframe thead th {\n",
       "        text-align: right;\n",
       "    }\n",
       "</style>\n",
       "<table border=\"1\" class=\"dataframe\">\n",
       "  <thead>\n",
       "    <tr style=\"text-align: right;\">\n",
       "      <th></th>\n",
       "      <th>Team</th>\n",
       "      <th>Won</th>\n",
       "      <th>Division</th>\n",
       "    </tr>\n",
       "  </thead>\n",
       "  <tbody>\n",
       "    <tr>\n",
       "      <td>0</td>\n",
       "      <td>Dallas Cowboys</td>\n",
       "      <td>520</td>\n",
       "      <td>NFC East</td>\n",
       "    </tr>\n",
       "    <tr>\n",
       "      <td>1</td>\n",
       "      <td>Green Bay Packers</td>\n",
       "      <td>756</td>\n",
       "      <td>NFC North</td>\n",
       "    </tr>\n",
       "    <tr>\n",
       "      <td>2</td>\n",
       "      <td>New England Patriots</td>\n",
       "      <td>512</td>\n",
       "      <td>AFC East</td>\n",
       "    </tr>\n",
       "    <tr>\n",
       "      <td>3</td>\n",
       "      <td>Chicago Bears</td>\n",
       "      <td>769</td>\n",
       "      <td>NFC North</td>\n",
       "    </tr>\n",
       "    <tr>\n",
       "      <td>4</td>\n",
       "      <td>Baltimore Ravens</td>\n",
       "      <td>214</td>\n",
       "      <td>AFC North</td>\n",
       "    </tr>\n",
       "  </tbody>\n",
       "</table>\n",
       "</div>"
      ],
      "text/plain": [
       "                   Team  Won   Division\n",
       "0        Dallas Cowboys  520   NFC East\n",
       "1     Green Bay Packers  756  NFC North\n",
       "2  New England Patriots  512   AFC East\n",
       "3         Chicago Bears  769  NFC North\n",
       "4      Baltimore Ravens  214  AFC North"
      ]
     },
     "execution_count": 51,
     "metadata": {},
     "output_type": "execute_result"
    }
   ],
   "source": [
    "DataFrame(nfl_frame, columns = ('Team', 'Won', 'Division'))"
   ]
  },
  {
   "cell_type": "markdown",
   "metadata": {},
   "source": []
  },
  {
   "cell_type": "code",
   "execution_count": 52,
   "metadata": {
    "scrolled": true
   },
   "outputs": [
    {
     "data": {
      "text/html": [
       "<div>\n",
       "<style scoped>\n",
       "    .dataframe tbody tr th:only-of-type {\n",
       "        vertical-align: middle;\n",
       "    }\n",
       "\n",
       "    .dataframe tbody tr th {\n",
       "        vertical-align: top;\n",
       "    }\n",
       "\n",
       "    .dataframe thead th {\n",
       "        text-align: right;\n",
       "    }\n",
       "</style>\n",
       "<table border=\"1\" class=\"dataframe\">\n",
       "  <thead>\n",
       "    <tr style=\"text-align: right;\">\n",
       "      <th></th>\n",
       "      <th>Rank</th>\n",
       "      <th>Team</th>\n",
       "      <th>GP</th>\n",
       "      <th>Won</th>\n",
       "      <th>Lost</th>\n",
       "      <th>Tied</th>\n",
       "      <th>Pct.</th>\n",
       "      <th>First NFL Season</th>\n",
       "      <th>Division</th>\n",
       "    </tr>\n",
       "  </thead>\n",
       "  <tbody>\n",
       "    <tr>\n",
       "      <td>0</td>\n",
       "      <td>1</td>\n",
       "      <td>Dallas Cowboys</td>\n",
       "      <td>914</td>\n",
       "      <td>520</td>\n",
       "      <td>388</td>\n",
       "      <td>6</td>\n",
       "      <td>0.572</td>\n",
       "      <td>1960</td>\n",
       "      <td>NFC East</td>\n",
       "    </tr>\n",
       "    <tr>\n",
       "      <td>1</td>\n",
       "      <td>2</td>\n",
       "      <td>Green Bay Packers</td>\n",
       "      <td>1,368</td>\n",
       "      <td>756</td>\n",
       "      <td>574</td>\n",
       "      <td>38</td>\n",
       "      <td>0.567</td>\n",
       "      <td>1921</td>\n",
       "      <td>NFC North</td>\n",
       "    </tr>\n",
       "  </tbody>\n",
       "</table>\n",
       "</div>"
      ],
      "text/plain": [
       "   Rank               Team     GP  Won  Lost  Tied   Pct.  First NFL Season  \\\n",
       "0     1     Dallas Cowboys    914  520   388     6  0.572              1960   \n",
       "1     2  Green Bay Packers  1,368  756   574    38  0.567              1921   \n",
       "\n",
       "    Division  \n",
       "0   NFC East  \n",
       "1  NFC North  "
      ]
     },
     "execution_count": 52,
     "metadata": {},
     "output_type": "execute_result"
    }
   ],
   "source": [
    "nfl_frame.head(2) #To call Rows"
   ]
  },
  {
   "cell_type": "code",
   "execution_count": 53,
   "metadata": {},
   "outputs": [
    {
     "data": {
      "text/html": [
       "<div>\n",
       "<style scoped>\n",
       "    .dataframe tbody tr th:only-of-type {\n",
       "        vertical-align: middle;\n",
       "    }\n",
       "\n",
       "    .dataframe tbody tr th {\n",
       "        vertical-align: top;\n",
       "    }\n",
       "\n",
       "    .dataframe thead th {\n",
       "        text-align: right;\n",
       "    }\n",
       "</style>\n",
       "<table border=\"1\" class=\"dataframe\">\n",
       "  <thead>\n",
       "    <tr style=\"text-align: right;\">\n",
       "      <th></th>\n",
       "      <th>Rank</th>\n",
       "      <th>Team</th>\n",
       "      <th>GP</th>\n",
       "      <th>Won</th>\n",
       "      <th>Lost</th>\n",
       "      <th>Tied</th>\n",
       "      <th>Pct.</th>\n",
       "      <th>First NFL Season</th>\n",
       "      <th>Division</th>\n",
       "    </tr>\n",
       "  </thead>\n",
       "  <tbody>\n",
       "    <tr>\n",
       "      <td>3</td>\n",
       "      <td>4</td>\n",
       "      <td>Chicago Bears</td>\n",
       "      <td>1,402</td>\n",
       "      <td>769</td>\n",
       "      <td>591</td>\n",
       "      <td>42</td>\n",
       "      <td>0.563</td>\n",
       "      <td>1920</td>\n",
       "      <td>NFC North</td>\n",
       "    </tr>\n",
       "    <tr>\n",
       "      <td>4</td>\n",
       "      <td>5</td>\n",
       "      <td>Baltimore Ravens</td>\n",
       "      <td>384</td>\n",
       "      <td>214</td>\n",
       "      <td>169</td>\n",
       "      <td>1</td>\n",
       "      <td>0.559</td>\n",
       "      <td>1996</td>\n",
       "      <td>AFC North</td>\n",
       "    </tr>\n",
       "  </tbody>\n",
       "</table>\n",
       "</div>"
      ],
      "text/plain": [
       "   Rank              Team     GP  Won  Lost  Tied   Pct.  First NFL Season  \\\n",
       "3     4     Chicago Bears  1,402  769   591    42  0.563              1920   \n",
       "4     5  Baltimore Ravens    384  214   169     1  0.559              1996   \n",
       "\n",
       "    Division  \n",
       "3  NFC North  \n",
       "4  AFC North  "
      ]
     },
     "execution_count": 53,
     "metadata": {},
     "output_type": "execute_result"
    }
   ],
   "source": [
    "nfl_frame.tail(2)"
   ]
  },
  {
   "cell_type": "code",
   "execution_count": 54,
   "metadata": {},
   "outputs": [
    {
     "name": "stderr",
     "output_type": "stream",
     "text": [
      "C:\\Users\\Apoorv\\Anaconda3\\lib\\site-packages\\ipykernel_launcher.py:1: FutureWarning: \n",
      ".ix is deprecated. Please use\n",
      ".loc for label based indexing or\n",
      ".iloc for positional indexing\n",
      "\n",
      "See the documentation here:\n",
      "http://pandas.pydata.org/pandas-docs/stable/user_guide/indexing.html#ix-indexer-is-deprecated\n",
      "  \"\"\"Entry point for launching an IPython kernel.\n"
     ]
    },
    {
     "data": {
      "text/plain": [
       "Rank                                   3\n",
       "Team                New England Patriots\n",
       "GP                                   916\n",
       "Won                                  512\n",
       "Lost                                 395\n",
       "Tied                                   9\n",
       "Pct.                               0.564\n",
       "First NFL Season                    1960\n",
       "Division                        AFC East\n",
       "Name: 2, dtype: object"
      ]
     },
     "execution_count": 54,
     "metadata": {},
     "output_type": "execute_result"
    }
   ],
   "source": [
    "nfl_frame.ix[2]"
   ]
  },
  {
   "cell_type": "code",
   "execution_count": 55,
   "metadata": {},
   "outputs": [
    {
     "data": {
      "text/html": [
       "<div>\n",
       "<style scoped>\n",
       "    .dataframe tbody tr th:only-of-type {\n",
       "        vertical-align: middle;\n",
       "    }\n",
       "\n",
       "    .dataframe tbody tr th {\n",
       "        vertical-align: top;\n",
       "    }\n",
       "\n",
       "    .dataframe thead th {\n",
       "        text-align: right;\n",
       "    }\n",
       "</style>\n",
       "<table border=\"1\" class=\"dataframe\">\n",
       "  <thead>\n",
       "    <tr style=\"text-align: right;\">\n",
       "      <th></th>\n",
       "      <th>Rank</th>\n",
       "      <th>Team</th>\n",
       "      <th>GP</th>\n",
       "      <th>Won</th>\n",
       "      <th>Lost</th>\n",
       "      <th>Tied</th>\n",
       "      <th>Pct.</th>\n",
       "      <th>First NFL Season</th>\n",
       "      <th>Division</th>\n",
       "    </tr>\n",
       "  </thead>\n",
       "  <tbody>\n",
       "    <tr>\n",
       "      <td>0</td>\n",
       "      <td>1</td>\n",
       "      <td>Dallas Cowboys</td>\n",
       "      <td>914</td>\n",
       "      <td>520</td>\n",
       "      <td>388</td>\n",
       "      <td>6</td>\n",
       "      <td>0.572</td>\n",
       "      <td>1960</td>\n",
       "      <td>NFC East</td>\n",
       "    </tr>\n",
       "    <tr>\n",
       "      <td>1</td>\n",
       "      <td>2</td>\n",
       "      <td>Green Bay Packers</td>\n",
       "      <td>1,368</td>\n",
       "      <td>756</td>\n",
       "      <td>574</td>\n",
       "      <td>38</td>\n",
       "      <td>0.567</td>\n",
       "      <td>1921</td>\n",
       "      <td>NFC North</td>\n",
       "    </tr>\n",
       "    <tr>\n",
       "      <td>2</td>\n",
       "      <td>3</td>\n",
       "      <td>New England Patriots</td>\n",
       "      <td>916</td>\n",
       "      <td>512</td>\n",
       "      <td>395</td>\n",
       "      <td>9</td>\n",
       "      <td>0.564</td>\n",
       "      <td>1960</td>\n",
       "      <td>AFC East</td>\n",
       "    </tr>\n",
       "    <tr>\n",
       "      <td>3</td>\n",
       "      <td>4</td>\n",
       "      <td>Chicago Bears</td>\n",
       "      <td>1,402</td>\n",
       "      <td>769</td>\n",
       "      <td>591</td>\n",
       "      <td>42</td>\n",
       "      <td>0.563</td>\n",
       "      <td>1920</td>\n",
       "      <td>NFC North</td>\n",
       "    </tr>\n",
       "    <tr>\n",
       "      <td>4</td>\n",
       "      <td>5</td>\n",
       "      <td>Baltimore Ravens</td>\n",
       "      <td>384</td>\n",
       "      <td>214</td>\n",
       "      <td>169</td>\n",
       "      <td>1</td>\n",
       "      <td>0.559</td>\n",
       "      <td>1996</td>\n",
       "      <td>AFC North</td>\n",
       "    </tr>\n",
       "  </tbody>\n",
       "</table>\n",
       "</div>"
      ],
      "text/plain": [
       "   Rank                  Team     GP  Won  Lost  Tied   Pct.  \\\n",
       "0     1        Dallas Cowboys    914  520   388     6  0.572   \n",
       "1     2     Green Bay Packers  1,368  756   574    38  0.567   \n",
       "2     3  New England Patriots    916  512   395     9  0.564   \n",
       "3     4         Chicago Bears  1,402  769   591    42  0.563   \n",
       "4     5      Baltimore Ravens    384  214   169     1  0.559   \n",
       "\n",
       "   First NFL Season   Division  \n",
       "0              1960   NFC East  \n",
       "1              1921  NFC North  \n",
       "2              1960   AFC East  \n",
       "3              1920  NFC North  \n",
       "4              1996  AFC North  "
      ]
     },
     "execution_count": 55,
     "metadata": {},
     "output_type": "execute_result"
    }
   ],
   "source": [
    "nfl_frame"
   ]
  },
  {
   "cell_type": "code",
   "execution_count": 60,
   "metadata": {},
   "outputs": [],
   "source": [
    "nfl_frame['Stadium'] = \"Levi's is  Stadium\"\n",
    "nfl_frame['Country'] = \"USA is Country\""
   ]
  },
  {
   "cell_type": "code",
   "execution_count": 61,
   "metadata": {},
   "outputs": [
    {
     "data": {
      "text/html": [
       "<div>\n",
       "<style scoped>\n",
       "    .dataframe tbody tr th:only-of-type {\n",
       "        vertical-align: middle;\n",
       "    }\n",
       "\n",
       "    .dataframe tbody tr th {\n",
       "        vertical-align: top;\n",
       "    }\n",
       "\n",
       "    .dataframe thead th {\n",
       "        text-align: right;\n",
       "    }\n",
       "</style>\n",
       "<table border=\"1\" class=\"dataframe\">\n",
       "  <thead>\n",
       "    <tr style=\"text-align: right;\">\n",
       "      <th></th>\n",
       "      <th>Rank</th>\n",
       "      <th>Team</th>\n",
       "      <th>GP</th>\n",
       "      <th>Won</th>\n",
       "      <th>Lost</th>\n",
       "      <th>Tied</th>\n",
       "      <th>Pct.</th>\n",
       "      <th>First NFL Season</th>\n",
       "      <th>Division</th>\n",
       "      <th>Country</th>\n",
       "      <th>Stadium</th>\n",
       "    </tr>\n",
       "  </thead>\n",
       "  <tbody>\n",
       "    <tr>\n",
       "      <td>0</td>\n",
       "      <td>1</td>\n",
       "      <td>Dallas Cowboys</td>\n",
       "      <td>914</td>\n",
       "      <td>520</td>\n",
       "      <td>388</td>\n",
       "      <td>6</td>\n",
       "      <td>0.572</td>\n",
       "      <td>1960</td>\n",
       "      <td>NFC East</td>\n",
       "      <td>USA is Country</td>\n",
       "      <td>Levi's is  Stadium</td>\n",
       "    </tr>\n",
       "    <tr>\n",
       "      <td>1</td>\n",
       "      <td>2</td>\n",
       "      <td>Green Bay Packers</td>\n",
       "      <td>1,368</td>\n",
       "      <td>756</td>\n",
       "      <td>574</td>\n",
       "      <td>38</td>\n",
       "      <td>0.567</td>\n",
       "      <td>1921</td>\n",
       "      <td>NFC North</td>\n",
       "      <td>USA is Country</td>\n",
       "      <td>Levi's is  Stadium</td>\n",
       "    </tr>\n",
       "    <tr>\n",
       "      <td>2</td>\n",
       "      <td>3</td>\n",
       "      <td>New England Patriots</td>\n",
       "      <td>916</td>\n",
       "      <td>512</td>\n",
       "      <td>395</td>\n",
       "      <td>9</td>\n",
       "      <td>0.564</td>\n",
       "      <td>1960</td>\n",
       "      <td>AFC East</td>\n",
       "      <td>USA is Country</td>\n",
       "      <td>Levi's is  Stadium</td>\n",
       "    </tr>\n",
       "    <tr>\n",
       "      <td>3</td>\n",
       "      <td>4</td>\n",
       "      <td>Chicago Bears</td>\n",
       "      <td>1,402</td>\n",
       "      <td>769</td>\n",
       "      <td>591</td>\n",
       "      <td>42</td>\n",
       "      <td>0.563</td>\n",
       "      <td>1920</td>\n",
       "      <td>NFC North</td>\n",
       "      <td>USA is Country</td>\n",
       "      <td>Levi's is  Stadium</td>\n",
       "    </tr>\n",
       "    <tr>\n",
       "      <td>4</td>\n",
       "      <td>5</td>\n",
       "      <td>Baltimore Ravens</td>\n",
       "      <td>384</td>\n",
       "      <td>214</td>\n",
       "      <td>169</td>\n",
       "      <td>1</td>\n",
       "      <td>0.559</td>\n",
       "      <td>1996</td>\n",
       "      <td>AFC North</td>\n",
       "      <td>USA is Country</td>\n",
       "      <td>Levi's is  Stadium</td>\n",
       "    </tr>\n",
       "  </tbody>\n",
       "</table>\n",
       "</div>"
      ],
      "text/plain": [
       "   Rank                  Team     GP  Won  Lost  Tied   Pct.  \\\n",
       "0     1        Dallas Cowboys    914  520   388     6  0.572   \n",
       "1     2     Green Bay Packers  1,368  756   574    38  0.567   \n",
       "2     3  New England Patriots    916  512   395     9  0.564   \n",
       "3     4         Chicago Bears  1,402  769   591    42  0.563   \n",
       "4     5      Baltimore Ravens    384  214   169     1  0.559   \n",
       "\n",
       "   First NFL Season   Division         Country             Stadium  \n",
       "0              1960   NFC East  USA is Country  Levi's is  Stadium  \n",
       "1              1921  NFC North  USA is Country  Levi's is  Stadium  \n",
       "2              1960   AFC East  USA is Country  Levi's is  Stadium  \n",
       "3              1920  NFC North  USA is Country  Levi's is  Stadium  \n",
       "4              1996  AFC North  USA is Country  Levi's is  Stadium  "
      ]
     },
     "execution_count": 61,
     "metadata": {},
     "output_type": "execute_result"
    }
   ],
   "source": [
    "nfl_frame"
   ]
  },
  {
   "cell_type": "code",
   "execution_count": 67,
   "metadata": {},
   "outputs": [],
   "source": [
    "del nfl_frame['Stadium']"
   ]
  },
  {
   "cell_type": "code",
   "execution_count": 68,
   "metadata": {},
   "outputs": [
    {
     "data": {
      "text/html": [
       "<div>\n",
       "<style scoped>\n",
       "    .dataframe tbody tr th:only-of-type {\n",
       "        vertical-align: middle;\n",
       "    }\n",
       "\n",
       "    .dataframe tbody tr th {\n",
       "        vertical-align: top;\n",
       "    }\n",
       "\n",
       "    .dataframe thead th {\n",
       "        text-align: right;\n",
       "    }\n",
       "</style>\n",
       "<table border=\"1\" class=\"dataframe\">\n",
       "  <thead>\n",
       "    <tr style=\"text-align: right;\">\n",
       "      <th></th>\n",
       "      <th>Rank</th>\n",
       "      <th>Team</th>\n",
       "      <th>GP</th>\n",
       "      <th>Won</th>\n",
       "      <th>Lost</th>\n",
       "      <th>Tied</th>\n",
       "      <th>Pct.</th>\n",
       "      <th>First NFL Season</th>\n",
       "      <th>Division</th>\n",
       "    </tr>\n",
       "  </thead>\n",
       "  <tbody>\n",
       "    <tr>\n",
       "      <td>0</td>\n",
       "      <td>1</td>\n",
       "      <td>Dallas Cowboys</td>\n",
       "      <td>914</td>\n",
       "      <td>520</td>\n",
       "      <td>388</td>\n",
       "      <td>6</td>\n",
       "      <td>0.572</td>\n",
       "      <td>1960</td>\n",
       "      <td>NFC East</td>\n",
       "    </tr>\n",
       "    <tr>\n",
       "      <td>1</td>\n",
       "      <td>2</td>\n",
       "      <td>Green Bay Packers</td>\n",
       "      <td>1,368</td>\n",
       "      <td>756</td>\n",
       "      <td>574</td>\n",
       "      <td>38</td>\n",
       "      <td>0.567</td>\n",
       "      <td>1921</td>\n",
       "      <td>NFC North</td>\n",
       "    </tr>\n",
       "    <tr>\n",
       "      <td>2</td>\n",
       "      <td>3</td>\n",
       "      <td>New England Patriots</td>\n",
       "      <td>916</td>\n",
       "      <td>512</td>\n",
       "      <td>395</td>\n",
       "      <td>9</td>\n",
       "      <td>0.564</td>\n",
       "      <td>1960</td>\n",
       "      <td>AFC East</td>\n",
       "    </tr>\n",
       "    <tr>\n",
       "      <td>3</td>\n",
       "      <td>4</td>\n",
       "      <td>Chicago Bears</td>\n",
       "      <td>1,402</td>\n",
       "      <td>769</td>\n",
       "      <td>591</td>\n",
       "      <td>42</td>\n",
       "      <td>0.563</td>\n",
       "      <td>1920</td>\n",
       "      <td>NFC North</td>\n",
       "    </tr>\n",
       "    <tr>\n",
       "      <td>4</td>\n",
       "      <td>5</td>\n",
       "      <td>Baltimore Ravens</td>\n",
       "      <td>384</td>\n",
       "      <td>214</td>\n",
       "      <td>169</td>\n",
       "      <td>1</td>\n",
       "      <td>0.559</td>\n",
       "      <td>1996</td>\n",
       "      <td>AFC North</td>\n",
       "    </tr>\n",
       "  </tbody>\n",
       "</table>\n",
       "</div>"
      ],
      "text/plain": [
       "   Rank                  Team     GP  Won  Lost  Tied   Pct.  \\\n",
       "0     1        Dallas Cowboys    914  520   388     6  0.572   \n",
       "1     2     Green Bay Packers  1,368  756   574    38  0.567   \n",
       "2     3  New England Patriots    916  512   395     9  0.564   \n",
       "3     4         Chicago Bears  1,402  769   591    42  0.563   \n",
       "4     5      Baltimore Ravens    384  214   169     1  0.559   \n",
       "\n",
       "   First NFL Season   Division  \n",
       "0              1960   NFC East  \n",
       "1              1921  NFC North  \n",
       "2              1960   AFC East  \n",
       "3              1920  NFC North  \n",
       "4              1996  AFC North  "
      ]
     },
     "execution_count": 68,
     "metadata": {},
     "output_type": "execute_result"
    }
   ],
   "source": [
    "nfl_frame"
   ]
  },
  {
   "cell_type": "code",
   "execution_count": 69,
   "metadata": {},
   "outputs": [],
   "source": [
    "data = {'city': ['Agra', 'Delhi', 'Pune'], 'Population': [4380793,16753235, 3124458] }"
   ]
  },
  {
   "cell_type": "code",
   "execution_count": 70,
   "metadata": {},
   "outputs": [
    {
     "data": {
      "text/plain": [
       "{'city': ['Agra', 'Delhi', 'Pune'], 'Population': [4380793, 16753235, 3124458]}"
      ]
     },
     "execution_count": 70,
     "metadata": {},
     "output_type": "execute_result"
    }
   ],
   "source": [
    "data"
   ]
  },
  {
   "cell_type": "code",
   "execution_count": 71,
   "metadata": {},
   "outputs": [],
   "source": [
    "city = DataFrame(data)"
   ]
  },
  {
   "cell_type": "code",
   "execution_count": 72,
   "metadata": {},
   "outputs": [
    {
     "data": {
      "text/html": [
       "<div>\n",
       "<style scoped>\n",
       "    .dataframe tbody tr th:only-of-type {\n",
       "        vertical-align: middle;\n",
       "    }\n",
       "\n",
       "    .dataframe tbody tr th {\n",
       "        vertical-align: top;\n",
       "    }\n",
       "\n",
       "    .dataframe thead th {\n",
       "        text-align: right;\n",
       "    }\n",
       "</style>\n",
       "<table border=\"1\" class=\"dataframe\">\n",
       "  <thead>\n",
       "    <tr style=\"text-align: right;\">\n",
       "      <th></th>\n",
       "      <th>city</th>\n",
       "      <th>Population</th>\n",
       "    </tr>\n",
       "  </thead>\n",
       "  <tbody>\n",
       "    <tr>\n",
       "      <td>0</td>\n",
       "      <td>Agra</td>\n",
       "      <td>4380793</td>\n",
       "    </tr>\n",
       "    <tr>\n",
       "      <td>1</td>\n",
       "      <td>Delhi</td>\n",
       "      <td>16753235</td>\n",
       "    </tr>\n",
       "    <tr>\n",
       "      <td>2</td>\n",
       "      <td>Pune</td>\n",
       "      <td>3124458</td>\n",
       "    </tr>\n",
       "  </tbody>\n",
       "</table>\n",
       "</div>"
      ],
      "text/plain": [
       "    city  Population\n",
       "0   Agra     4380793\n",
       "1  Delhi    16753235\n",
       "2   Pune     3124458"
      ]
     },
     "execution_count": 72,
     "metadata": {},
     "output_type": "execute_result"
    }
   ],
   "source": [
    "city"
   ]
  },
  {
   "cell_type": "code",
   "execution_count": null,
   "metadata": {},
   "outputs": [],
   "source": []
  }
 ],
 "metadata": {
  "kernelspec": {
   "display_name": "Python 3",
   "language": "python",
   "name": "python3"
  },
  "language_info": {
   "codemirror_mode": {
    "name": "ipython",
    "version": 3
   },
   "file_extension": ".py",
   "mimetype": "text/x-python",
   "name": "python",
   "nbconvert_exporter": "python",
   "pygments_lexer": "ipython3",
   "version": "3.7.4"
  }
 },
 "nbformat": 4,
 "nbformat_minor": 2
}
