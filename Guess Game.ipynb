{
 "cells": [
  {
   "cell_type": "code",
   "execution_count": 8,
   "metadata": {},
   "outputs": [
    {
     "name": "stdout",
     "output_type": "stream",
     "text": [
      "Please enter a number: 5\n",
      "Guess Again: 5\n",
      "Guess a bigger number\n",
      "Guess Again: 9\n",
      "Guess a bigger number\n",
      "Guess Again: 15\n",
      "Guess a smaller number\n",
      "Guess Again: 12\n",
      "You guessed correct\n"
     ]
    }
   ],
   "source": [
    "import random \n",
    "\n",
    "m = random.randint(1,50)\n",
    "n = int(m)\n",
    "\n",
    "guess = input(\"Please enter a number: \")\n",
    "\n",
    "while guess!= m:\n",
    "    guess = int(input(\"Guess Again: \"))\n",
    "    if guess > m:\n",
    "        print (\"Guess a smaller number\")\n",
    "    elif guess < m:\n",
    "        print (\"Guess a bigger number\")\n",
    "        \n",
    "print(\"You guessed correct\")\n",
    "\n",
    "\n"
   ]
  },
  {
   "cell_type": "code",
   "execution_count": null,
   "metadata": {},
   "outputs": [],
   "source": []
  }
 ],
 "metadata": {
  "kernelspec": {
   "display_name": "Python 3",
   "language": "python",
   "name": "python3"
  },
  "language_info": {
   "codemirror_mode": {
    "name": "ipython",
    "version": 3
   },
   "file_extension": ".py",
   "mimetype": "text/x-python",
   "name": "python",
   "nbconvert_exporter": "python",
   "pygments_lexer": "ipython3",
   "version": "3.7.4"
  }
 },
 "nbformat": 4,
 "nbformat_minor": 2
}
